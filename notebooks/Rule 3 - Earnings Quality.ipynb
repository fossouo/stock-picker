{
 "cells": [
  {
   "cell_type": "code",
   "execution_count": 1,
   "metadata": {
    "collapsed": false
   },
   "outputs": [
    {
     "data": {
      "text/plain": [
       "'2017-02-03'"
      ]
     },
     "execution_count": 1,
     "metadata": {},
     "output_type": "execute_result"
    }
   ],
   "source": [
    "# Boring things first\n",
    "import datetime\n",
    "\n",
    "fundamentals = init_fundamentals()\n",
    "\n",
    "today = datetime.datetime.now().strftime('%Y-%m-%d')\n",
    "today"
   ]
  },
  {
   "cell_type": "code",
   "execution_count": 2,
   "metadata": {
    "collapsed": false
   },
   "outputs": [],
   "source": [
    "# Collect all the data\n",
    "fundamental_df = get_fundamentals(\n",
    "        query(\n",
    "            fundamentals.cash_flow_statement.operating_cash_flow,\n",
    "            fundamentals.income_statement.net_income,\n",
    "            fundamentals.valuation.market_cap,\n",
    "            fundamentals.share_class_reference.is_primary_share\n",
    "        )\n",
    "\n",
    "        # Filters that someone thought were important.  We'll probably want to filter to only things we can buy\n",
    "        # via Robinhood.\n",
    "        #.filter(fundamentals.asset_classification.morningstar_sector_code != 103)\n",
    "        #.filter(fundamentals.company_reference.country_id == \"USA\")\n",
    "        #.filter(fundamentals.asset_classification.morningstar_sector_code != 104)\n",
    "        #.filter(fundamentals.share_class_reference.is_depositary_receipt == False)\n",
    "        .filter(fundamentals.share_class_reference.is_primary_share == True),\n",
    "        #.filter(fundamentals.company_reference.primary_exchange_id != \"OTCPK\")        \n",
    "        \n",
    "        today\n",
    "    )\n",
    "\n",
    "# OK, let's check out what we get back.\n",
    "# When we provide a query and a date, we get back the same type of response\n",
    "# as in the IDE: a dataframe with securities as columns and each requested\n",
    "# metric as rows.\n",
    "\n",
    "transposed = fundamental_df.transpose()\n"
   ]
  },
  {
   "cell_type": "code",
   "execution_count": 3,
   "metadata": {
    "collapsed": false
   },
   "outputs": [
    {
     "name": "stdout",
     "output_type": "stream",
     "text": [
      "4499\n"
     ]
    },
    {
     "data": {
      "text/plain": [
       "<matplotlib.axes._subplots.AxesSubplot at 0x7f160c72bc90>"
      ]
     },
     "execution_count": 3,
     "metadata": {},
     "output_type": "execute_result"
    },
    {
     "data": {
      "image/png": "[encoded data removed]",
      "text/plain": [
       "<matplotlib.figure.Figure at 0x7f160c716d90>"
      ]
     },
     "metadata": {},
     "output_type": "display_data"
    }
   ],
   "source": [
    "rulevalues = (transposed.net_income - transposed.operating_cash_flow) / transposed.market_cap\n",
    "print len(rulevalues)\n",
    "rulevalues.hist(bins=100, range=(-1,1))"
   ]
  },
  {
   "cell_type": "code",
   "execution_count": null,
   "metadata": {
    "collapsed": true
   },
   "outputs": [],
   "source": []
  }
 ],
 "metadata": {
  "kernelspec": {
   "display_name": "Python 2",
   "language": "python",
   "name": "python2"
  },
  "language_info": {
   "codemirror_mode": {
    "name": "ipython",
    "version": 2
   },
   "file_extension": ".py",
   "mimetype": "text/x-python",
   "name": "python",
   "nbconvert_exporter": "python",
   "pygments_lexer": "ipython2",
   "version": "2.7.12"
  }
 },
 "nbformat": 4,
 "nbformat_minor": 0
}